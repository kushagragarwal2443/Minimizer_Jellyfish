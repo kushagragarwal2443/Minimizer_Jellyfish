{
 "cells": [
  {
   "cell_type": "code",
   "execution_count": 19,
   "metadata": {},
   "outputs": [],
   "source": [
    "import numpy as np\n",
    "import pandas as pd\n",
    "from Bio import SeqIO"
   ]
  },
  {
   "cell_type": "markdown",
   "metadata": {},
   "source": [
    "## Selected kmers comparison"
   ]
  },
  {
   "cell_type": "code",
   "execution_count": 6,
   "metadata": {},
   "outputs": [
    {
     "name": "stdout",
     "output_type": "stream",
     "text": [
      "Unique kmers: 185265\n",
      "Sum: 149370236\n"
     ]
    }
   ],
   "source": [
    "fasta1 = SeqIO.parse(open(\"counts_original.fa\"),'fasta')\n",
    "total_counter1 = 0\n",
    "counter1 = 0\n",
    "for fasta in fasta1:\n",
    "    name, sequence = int(fasta.id), str(fasta.seq)\n",
    "    total_counter1 += name\n",
    "    counter1 += 1\n",
    "    \n",
    "print(\"Unique kmers:\", counter1)\n",
    "print(\"Sum:\", total_counter1)"
   ]
  },
  {
   "cell_type": "code",
   "execution_count": 7,
   "metadata": {},
   "outputs": [
    {
     "name": "stdout",
     "output_type": "stream",
     "text": [
      "Unique kmers: 64248\n",
      "Sum: 14928056\n"
     ]
    }
   ],
   "source": [
    "fasta2 = SeqIO.parse(open(\"counts_selected.fa\"),'fasta')\n",
    "total_counter2 = 0\n",
    "counter2 = 0\n",
    "for fasta in fasta2:\n",
    "    name, sequence = int(fasta.id), str(fasta.seq)\n",
    "    total_counter2 += name\n",
    "    counter2 += 1\n",
    "    \n",
    "print(\"Unique kmers:\", counter2)\n",
    "print(\"Sum:\", total_counter2)"
   ]
  },
  {
   "cell_type": "code",
   "execution_count": 14,
   "metadata": {},
   "outputs": [
    {
     "name": "stdout",
     "output_type": "stream",
     "text": [
      "Percentage of Unique kmers selected: 34.67897336248077\n",
      "Percentage of Total kmers selected :  9.99399639430174\n"
     ]
    }
   ],
   "source": [
    "print(\"Percentage of Unique kmers selected:\", counter2/counter1 *100)\n",
    "print(\"Percentage of Total kmers selected : \", total_counter2/total_counter1 *100)"
   ]
  },
  {
   "cell_type": "markdown",
   "metadata": {},
   "source": [
    "# Time comparison"
   ]
  },
  {
   "cell_type": "code",
   "execution_count": 60,
   "metadata": {},
   "outputs": [
    {
     "data": {
      "text/html": [
       "<div>\n",
       "<style scoped>\n",
       "    .dataframe tbody tr th:only-of-type {\n",
       "        vertical-align: middle;\n",
       "    }\n",
       "\n",
       "    .dataframe tbody tr th {\n",
       "        vertical-align: top;\n",
       "    }\n",
       "\n",
       "    .dataframe thead th {\n",
       "        text-align: right;\n",
       "    }\n",
       "</style>\n",
       "<table border=\"1\" class=\"dataframe\">\n",
       "  <thead>\n",
       "    <tr style=\"text-align: right;\">\n",
       "      <th></th>\n",
       "      <th>kmers_time</th>\n",
       "      <th>type</th>\n",
       "      <th>MT_values</th>\n",
       "    </tr>\n",
       "  </thead>\n",
       "  <tbody>\n",
       "    <tr>\n",
       "      <th>0</th>\n",
       "      <td>9.41</td>\n",
       "      <td>all kmers</td>\n",
       "      <td>11</td>\n",
       "    </tr>\n",
       "    <tr>\n",
       "      <th>1</th>\n",
       "      <td>10.86</td>\n",
       "      <td>all kmers</td>\n",
       "      <td>12</td>\n",
       "    </tr>\n",
       "    <tr>\n",
       "      <th>2</th>\n",
       "      <td>12.41</td>\n",
       "      <td>all kmers</td>\n",
       "      <td>14</td>\n",
       "    </tr>\n",
       "    <tr>\n",
       "      <th>3</th>\n",
       "      <td>10.18</td>\n",
       "      <td>all kmers</td>\n",
       "      <td>21</td>\n",
       "    </tr>\n",
       "    <tr>\n",
       "      <th>4</th>\n",
       "      <td>11.95</td>\n",
       "      <td>all kmers</td>\n",
       "      <td>22</td>\n",
       "    </tr>\n",
       "    <tr>\n",
       "      <th>5</th>\n",
       "      <td>13.60</td>\n",
       "      <td>all kmers</td>\n",
       "      <td>24</td>\n",
       "    </tr>\n",
       "    <tr>\n",
       "      <th>6</th>\n",
       "      <td>5.43</td>\n",
       "      <td>selected kmers</td>\n",
       "      <td>11</td>\n",
       "    </tr>\n",
       "    <tr>\n",
       "      <th>7</th>\n",
       "      <td>50.56</td>\n",
       "      <td>selected kmers</td>\n",
       "      <td>12</td>\n",
       "    </tr>\n",
       "    <tr>\n",
       "      <th>8</th>\n",
       "      <td>52.30</td>\n",
       "      <td>selected kmers</td>\n",
       "      <td>14</td>\n",
       "    </tr>\n",
       "    <tr>\n",
       "      <th>9</th>\n",
       "      <td>6.23</td>\n",
       "      <td>selected kmers</td>\n",
       "      <td>21</td>\n",
       "    </tr>\n",
       "    <tr>\n",
       "      <th>10</th>\n",
       "      <td>53.73</td>\n",
       "      <td>selected kmers</td>\n",
       "      <td>22</td>\n",
       "    </tr>\n",
       "    <tr>\n",
       "      <th>11</th>\n",
       "      <td>48.79</td>\n",
       "      <td>selected kmers</td>\n",
       "      <td>24</td>\n",
       "    </tr>\n",
       "  </tbody>\n",
       "</table>\n",
       "</div>"
      ],
      "text/plain": [
       "    kmers_time            type MT_values\n",
       "0         9.41       all kmers        11\n",
       "1        10.86       all kmers        12\n",
       "2        12.41       all kmers        14\n",
       "3        10.18       all kmers        21\n",
       "4        11.95       all kmers        22\n",
       "5        13.60       all kmers        24\n",
       "6         5.43  selected kmers        11\n",
       "7        50.56  selected kmers        12\n",
       "8        52.30  selected kmers        14\n",
       "9         6.23  selected kmers        21\n",
       "10       53.73  selected kmers        22\n",
       "11       48.79  selected kmers        24"
      ]
     },
     "execution_count": 60,
     "metadata": {},
     "output_type": "execute_result"
    }
   ],
   "source": [
    "# dicti = {'all_kmers_time' : [9.41, 10.86, 12.41, 10.18, 11.95, 13.60], \n",
    "#          'sel_kmers_time' : [5.43, 50.56, 52.30, 6.23, 53.73, 48.79],\n",
    "#          'MT_values' : [\"11\",\"12\",\"14\",\"21\",\"22\",\"24\"]\n",
    "#           }\n",
    "\n",
    "dicti = {'kmers_time' : [9.41, 10.86, 12.41, 10.18, 11.95, 13.60, 5.43, 50.56, 52.30, 6.23, 53.73, 48.79],\n",
    "         'type': [\"all kmers\", \"all kmers\", \"all kmers\", \"all kmers\", \"all kmers\", \"all kmers\", \n",
    " \"selected kmers\", \"selected kmers\", \"selected kmers\", \"selected kmers\", \"selected kmers\", \"selected kmers\"],\n",
    "         'MT_values' : [\"11\",\"12\",\"14\",\"21\",\"22\",\"24\", \"11\",\"12\",\"14\",\"21\",\"22\",\"24\"]\n",
    "          }\n",
    "\n",
    "df = pd.DataFrame(dicti)\n",
    "\n",
    "df"
   ]
  },
  {
   "cell_type": "code",
   "execution_count": 61,
   "metadata": {},
   "outputs": [
    {
     "data": {
      "text/plain": [
       "<seaborn.axisgrid.FacetGrid at 0x7f694efa2610>"
      ]
     },
     "execution_count": 61,
     "metadata": {},
     "output_type": "execute_result"
    },
    {
     "data": {
      "image/png": "[encoded data removed]",
      "text/plain": [
       "<Figure size 484.475x360 with 1 Axes>"
      ]
     },
     "metadata": {},
     "output_type": "display_data"
    }
   ],
   "source": [
    "import seaborn as sns\n",
    "g = sns.catplot(\n",
    "    data=df, kind=\"bar\",\n",
    "    x=\"MT_values\", y=\"kmers_time\", hue=\"type\",\n",
    "    ci=\"sd\", palette=\"viridis\", alpha=.9, height=5\n",
    ")\n",
    "g.despine(left=True)\n",
    "g.set_axis_labels(\"Memory_Threads_Values\", \"Time taken (in seconds)\")"
   ]
  }
 ],
 "metadata": {
  "kernelspec": {
   "display_name": "Python 3",
   "language": "python",
   "name": "python3"
  },
  "language_info": {
   "codemirror_mode": {
    "name": "ipython",
    "version": 3
   },
   "file_extension": ".py",
   "mimetype": "text/x-python",
   "name": "python",
   "nbconvert_exporter": "python",
   "pygments_lexer": "ipython3",
   "version": "3.8.10"
  }
 },
 "nbformat": 4,
 "nbformat_minor": 4
}
